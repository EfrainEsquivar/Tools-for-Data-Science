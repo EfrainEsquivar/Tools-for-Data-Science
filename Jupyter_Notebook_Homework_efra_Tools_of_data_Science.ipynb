{
 "cells": [
  {
   "cell_type": "markdown",
   "metadata": {},
   "source": [
    "<center>\n",
    "    <img src=\"https://s3-api.us-geo.objectstorage.softlayer.net/cf-courses-data/CognitiveClass/Logos/organization_logo/organization_logo.png\" width=\"300\" alt=\"cognitiveclass.ai logo\"  />\n",
    "</center>\n"
   ]
  },
  {
   "cell_type": "markdown",
   "metadata": {},
   "source": [
    "#### Add your code below following the instructions given in the course\n"
   ]
  },
  {
   "cell_type": "markdown",
   "metadata": {},
   "source": [
    "# My Jupyter Notebook on IBM Watson Studio"
   ]
  },
  {
   "cell_type": "markdown",
   "metadata": {},
   "source": [
    "__Efrain Enrique Esquivar Genesta__\n",
    "\n",
    "100% Human, with all my mistakes"
   ]
  },
  {
   "cell_type": "markdown",
   "metadata": {},
   "source": [
    "_I am interested in data science because it is a great unknown field for many, and I would like to be able to help people make decisions according to the data analyzed_"
   ]
  },
  {
   "cell_type": "markdown",
   "metadata": {},
   "source": [
    "### The following code shows the average of 3 numbers predetermined by the programmer in a def Average_function"
   ]
  },
  {
   "cell_type": "code",
   "execution_count": 42,
   "metadata": {},
   "outputs": [
    {
     "name": "stdout",
     "output_type": "stream",
     "text": [
      "The average of 5 , 7 and 9  is  7.0\n"
     ]
    }
   ],
   "source": [
    "def Average_function(numbers):\n",
    "    sum_of_numbers = sum(numbers)\n",
    "    total_of_numbers = len(numbers)\n",
    "    ave = sum_of_numbers / total_of_numbers\n",
    "    return ave\n",
    "\n",
    "numbers = [5, 7, 9]\n",
    "ave = Average_function(numbers)\n",
    "print(\"The average of\", int(numbers[0]), \",\" , int(numbers[1]), \"and\" , int(numbers[2]) , \" is \"  , ave)"
   ]
  },
  {
   "cell_type": "markdown",
   "metadata": {},
   "source": [
    "<img src=https://files.worldwildlife.org/wwfcmsprod/images/elephants_at_water_hole_WW2122503_Anup_Shah/magazine_hero/99dsjm2iaw_Medium_WW2122503.jpg>\n",
    "\n",
    "1. <font color=red>First elephant</font>\n",
    "\n",
    "***\n",
    "2. <font color=blue>Second elephant</font>\n",
    "\n",
    "***\n",
    "3. <font color=green>Three elephant</font>\n",
    "\n",
    "***\n",
    "\n",
    "https://www.worldwildlife.org/species/elephant"
   ]
  }
 ],
 "metadata": {
  "kernelspec": {
   "display_name": "Python",
   "language": "python",
   "name": "conda-env-python-py"
  },
  "language_info": {
   "codemirror_mode": {
    "name": "ipython",
    "version": 3
   },
   "file_extension": ".py",
   "mimetype": "text/x-python",
   "name": "python",
   "nbconvert_exporter": "python",
   "pygments_lexer": "ipython3",
   "version": "3.7.12"
  }
 },
 "nbformat": 4,
 "nbformat_minor": 4
}
